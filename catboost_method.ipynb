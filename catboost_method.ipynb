{
 "cells": [
  {
   "cell_type": "code",
   "execution_count": 26,
   "metadata": {},
   "outputs": [],
   "source": [
    "#라이브러리 및 파일 불러오기\n",
    "\n",
    "import pandas as pd\n",
    "import numpy as np\n",
    "from sklearn.impute import SimpleImputer\n",
    "from sklearn.preprocessing import LabelEncoder, OneHotEncoder\n",
    "from sklearn.ensemble import RandomForestClassifier\n",
    "from sklearn.preprocessing import LabelEncoder\n",
    "from sklearn.metrics import accuracy_score, classification_report, confusion_matrix\n",
    "from sklearn.model_selection import train_test_split\n",
    "import missingno as msno\n",
    "import matplotlib.pyplot as plt\n",
    "import matplotlib.font_manager as fm\n",
    "from catboost import CatBoostClassifier\n",
    "\n",
    "train = pd.read_csv('./train.csv')\n",
    "test = pd.read_csv('./test.csv')"
   ]
  },
  {
   "cell_type": "code",
   "execution_count": 27,
   "metadata": {},
   "outputs": [
    {
     "data": {
      "text/html": [
       "<div>\n",
       "<style scoped>\n",
       "    .dataframe tbody tr th:only-of-type {\n",
       "        vertical-align: middle;\n",
       "    }\n",
       "\n",
       "    .dataframe tbody tr th {\n",
       "        vertical-align: top;\n",
       "    }\n",
       "\n",
       "    .dataframe thead th {\n",
       "        text-align: right;\n",
       "    }\n",
       "</style>\n",
       "<table border=\"1\" class=\"dataframe\">\n",
       "  <thead>\n",
       "    <tr style=\"text-align: right;\">\n",
       "      <th></th>\n",
       "      <th>ID</th>\n",
       "      <th>매물확인방식</th>\n",
       "      <th>보증금</th>\n",
       "      <th>월세</th>\n",
       "      <th>전용면적</th>\n",
       "      <th>해당층</th>\n",
       "      <th>총층</th>\n",
       "      <th>방향</th>\n",
       "      <th>방수</th>\n",
       "      <th>욕실수</th>\n",
       "      <th>주차가능여부</th>\n",
       "      <th>총주차대수</th>\n",
       "      <th>관리비</th>\n",
       "      <th>중개사무소</th>\n",
       "      <th>제공플랫폼</th>\n",
       "      <th>게재일</th>\n",
       "      <th>허위매물여부</th>\n",
       "    </tr>\n",
       "  </thead>\n",
       "  <tbody>\n",
       "    <tr>\n",
       "      <th>0</th>\n",
       "      <td>TRAIN_0000</td>\n",
       "      <td>현장확인</td>\n",
       "      <td>402500000.0</td>\n",
       "      <td>470000</td>\n",
       "      <td>NaN</td>\n",
       "      <td>NaN</td>\n",
       "      <td>15.0</td>\n",
       "      <td>서향</td>\n",
       "      <td>1.0</td>\n",
       "      <td>1.0</td>\n",
       "      <td>가능</td>\n",
       "      <td>40.0</td>\n",
       "      <td>96</td>\n",
       "      <td>t93Nt6I2I0</td>\n",
       "      <td>B플랫폼</td>\n",
       "      <td>2024-10-09</td>\n",
       "      <td>0</td>\n",
       "    </tr>\n",
       "    <tr>\n",
       "      <th>1</th>\n",
       "      <td>TRAIN_0001</td>\n",
       "      <td>현장확인</td>\n",
       "      <td>170500000.0</td>\n",
       "      <td>200000</td>\n",
       "      <td>NaN</td>\n",
       "      <td>3.0</td>\n",
       "      <td>4.0</td>\n",
       "      <td>남동향</td>\n",
       "      <td>2.0</td>\n",
       "      <td>1.0</td>\n",
       "      <td>불가능</td>\n",
       "      <td>NaN</td>\n",
       "      <td>0</td>\n",
       "      <td>q39iV5J4E6</td>\n",
       "      <td>D플랫폼</td>\n",
       "      <td>2024-12-26</td>\n",
       "      <td>0</td>\n",
       "    </tr>\n",
       "    <tr>\n",
       "      <th>2</th>\n",
       "      <td>TRAIN_0002</td>\n",
       "      <td>전화확인</td>\n",
       "      <td>114000000.0</td>\n",
       "      <td>380000</td>\n",
       "      <td>NaN</td>\n",
       "      <td>2.0</td>\n",
       "      <td>3.0</td>\n",
       "      <td>동향</td>\n",
       "      <td>1.0</td>\n",
       "      <td>1.0</td>\n",
       "      <td>불가능</td>\n",
       "      <td>NaN</td>\n",
       "      <td>0</td>\n",
       "      <td>b03oE4G3F6</td>\n",
       "      <td>A플랫폼</td>\n",
       "      <td>2024-11-28</td>\n",
       "      <td>0</td>\n",
       "    </tr>\n",
       "    <tr>\n",
       "      <th>3</th>\n",
       "      <td>TRAIN_0003</td>\n",
       "      <td>현장확인</td>\n",
       "      <td>163500000.0</td>\n",
       "      <td>30000</td>\n",
       "      <td>36.3</td>\n",
       "      <td>3.0</td>\n",
       "      <td>9.0</td>\n",
       "      <td>남동향</td>\n",
       "      <td>2.0</td>\n",
       "      <td>1.0</td>\n",
       "      <td>가능</td>\n",
       "      <td>13.0</td>\n",
       "      <td>10</td>\n",
       "      <td>G52Iz8V2B9</td>\n",
       "      <td>A플랫폼</td>\n",
       "      <td>2024-11-26</td>\n",
       "      <td>0</td>\n",
       "    </tr>\n",
       "    <tr>\n",
       "      <th>4</th>\n",
       "      <td>TRAIN_0004</td>\n",
       "      <td>현장확인</td>\n",
       "      <td>346000000.0</td>\n",
       "      <td>530000</td>\n",
       "      <td>NaN</td>\n",
       "      <td>3.0</td>\n",
       "      <td>3.0</td>\n",
       "      <td>동향</td>\n",
       "      <td>2.0</td>\n",
       "      <td>1.0</td>\n",
       "      <td>불가능</td>\n",
       "      <td>NaN</td>\n",
       "      <td>0</td>\n",
       "      <td>N45gM0M7R0</td>\n",
       "      <td>B플랫폼</td>\n",
       "      <td>2024-06-25</td>\n",
       "      <td>1</td>\n",
       "    </tr>\n",
       "  </tbody>\n",
       "</table>\n",
       "</div>"
      ],
      "text/plain": [
       "           ID 매물확인방식          보증금      월세  전용면적  해당층    총층   방향   방수  욕실수  \\\n",
       "0  TRAIN_0000   현장확인  402500000.0  470000   NaN  NaN  15.0   서향  1.0  1.0   \n",
       "1  TRAIN_0001   현장확인  170500000.0  200000   NaN  3.0   4.0  남동향  2.0  1.0   \n",
       "2  TRAIN_0002   전화확인  114000000.0  380000   NaN  2.0   3.0   동향  1.0  1.0   \n",
       "3  TRAIN_0003   현장확인  163500000.0   30000  36.3  3.0   9.0  남동향  2.0  1.0   \n",
       "4  TRAIN_0004   현장확인  346000000.0  530000   NaN  3.0   3.0   동향  2.0  1.0   \n",
       "\n",
       "  주차가능여부  총주차대수  관리비       중개사무소 제공플랫폼         게재일  허위매물여부  \n",
       "0     가능   40.0   96  t93Nt6I2I0  B플랫폼  2024-10-09       0  \n",
       "1    불가능    NaN    0  q39iV5J4E6  D플랫폼  2024-12-26       0  \n",
       "2    불가능    NaN    0  b03oE4G3F6  A플랫폼  2024-11-28       0  \n",
       "3     가능   13.0   10  G52Iz8V2B9  A플랫폼  2024-11-26       0  \n",
       "4    불가능    NaN    0  N45gM0M7R0  B플랫폼  2024-06-25       1  "
      ]
     },
     "execution_count": 27,
     "metadata": {},
     "output_type": "execute_result"
    }
   ],
   "source": [
    "plt.rc('font', family='Malgun Gothic')  # Windows: 맑은 고딕\n",
    "plt.rcParams['axes.unicode_minus'] = False  # 한글 폰트 적용 시 마이너스 부호 깨짐 방지\n",
    "train.head()"
   ]
  },
  {
   "cell_type": "code",
   "execution_count": 28,
   "metadata": {},
   "outputs": [
    {
     "name": "stdout",
     "output_type": "stream",
     "text": [
      "ID         object\n",
      "매물확인방식     object\n",
      "보증금       float64\n",
      "월세          int64\n",
      "전용면적      float64\n",
      "해당층       float64\n",
      "총층        float64\n",
      "방향         object\n",
      "방수        float64\n",
      "욕실수       float64\n",
      "주차가능여부     object\n",
      "총주차대수     float64\n",
      "관리비         int64\n",
      "중개사무소      object\n",
      "제공플랫폼      object\n",
      "게재일        object\n",
      "허위매물여부      int64\n",
      "dtype: object\n"
     ]
    }
   ],
   "source": [
    "print(train.dtypes)\n",
    "cat_features = ['매물확인방식', '방향', '주차가능여부', '중개사무소', '제공플랫폼']"
   ]
  },
  {
   "cell_type": "code",
   "execution_count": null,
   "metadata": {},
   "outputs": [],
   "source": [
    "# '게재일'을 datetime 형식으로 변환\n",
    "train['게재일'] = pd.to_datetime(train['게재일'], format='%Y-%m-%d', errors='coerce')\n",
    "test['게재일'] = pd.to_datetime(test['게재일'], format='%Y-%m-%d', errors='coerce')\n",
    "\n",
    "\n",
    "# 데이터셋에서 가장 최근 날짜 찾기\n",
    "latest_date = max(train['게재일'].max(), test['게재일'].max())\n",
    "\n",
    "# 기준 날짜를 가장 최근 날짜로 설정하여 경과일수 계산\n",
    "train['게재_경과일'] = (latest_date - train['게재일']).dt.days\n",
    "test['게재_경과일'] = (latest_date - test['게재일']).dt.days\n",
    "# ✅ 보증금 대비 월세 비율\n",
    "train['보증금_월세비율'] = train['보증금'] / (train['월세'] + 1)  # 0으로 나누는 것 방지\n",
    "test['보증금_월세비율'] = test['보증금'] / (test['월세'] + 1)\n",
    "\n",
    "# ✅ 1m²당 관리비\n",
    "train['평당관리비'] = train['관리비'] / (train['전용면적'] + 1)\n",
    "test['평당관리비'] = test['관리비'] / (test['전용면적'] + 1)\n",
    "# 원본 '게재일' 컬럼 삭제\n",
    "train = train.drop(['게재일'], axis=1)\n",
    "test = test.drop(['게재일'], axis=1)"
   ]
  },
  {
   "cell_type": "code",
   "execution_count": 30,
   "metadata": {},
   "outputs": [],
   "source": [
    "X_train = train.drop(['허위매물여부', 'ID'], axis=1)  # 피처 데이터\n",
    "y_train = train['허위매물여부']  # 타겟 값\n",
    "X_test = test.drop('ID', axis=1)  # 테스트 데이터"
   ]
  },
  {
   "cell_type": "code",
   "execution_count": null,
   "metadata": {},
   "outputs": [
    {
     "name": "stderr",
     "output_type": "stream",
     "text": [
      "[I 2025-02-13 17:33:25,102] A new study created in memory with name: no-name-a0984be5-89ed-43b4-88ee-3b028b538c76\n"
     ]
    }
   ],
   "source": [
    "import optuna\n",
    "from catboost import CatBoostClassifier\n",
    "from sklearn.model_selection import cross_val_score\n",
    "\n",
    "# 1️⃣ 하이퍼파라미터 튜닝 함수 정의\n",
    "def objective(trial):\n",
    "    params = {\n",
    "        \"iterations\": trial.suggest_int(\"iterations\", 500, 3000, step=500),\n",
    "        \"depth\": trial.suggest_int(\"depth\", 4, 10),\n",
    "        \"learning_rate\": trial.suggest_float(\"learning_rate\", 0.01, 0.3, log=True),\n",
    "        \"l2_leaf_reg\": trial.suggest_float(\"l2_leaf_reg\", 1, 10),\n",
    "        \"border_count\": trial.suggest_int(\"border_count\", 32, 255),\n",
    "        \"loss_function\": \"Logloss\",\n",
    "        \"cat_features\": cat_features\n",
    "    }\n",
    "    \n",
    "    model = CatBoostClassifier(**params, verbose=0)\n",
    "    score = cross_val_score(model, X_train, y_train, cv=5, scoring='accuracy').mean()\n",
    "    return score\n",
    "\n",
    "# 2️⃣ Optuna 실행 (최적 하이퍼파라미터 탐색)\n",
    "study = optuna.create_study(direction=\"maximize\")\n",
    "study.optimize(objective, n_trials=30)\n",
    "\n",
    "# 3️⃣ 최적 하이퍼파라미터 확인\n",
    "print(\"Best params:\", study.best_params)"
   ]
  },
  {
   "cell_type": "code",
   "execution_count": 31,
   "metadata": {},
   "outputs": [
    {
     "name": "stdout",
     "output_type": "stream",
     "text": [
      "0:\tlearn: 0.5659652\ttotal: 44.5ms\tremaining: 44.4s\n",
      "100:\tlearn: 0.0470011\ttotal: 2.16s\tremaining: 19.2s\n",
      "200:\tlearn: 0.0248050\ttotal: 4.1s\tremaining: 16.3s\n",
      "300:\tlearn: 0.0146408\ttotal: 6.07s\tremaining: 14.1s\n",
      "400:\tlearn: 0.0099358\ttotal: 8.15s\tremaining: 12.2s\n",
      "500:\tlearn: 0.0071850\ttotal: 10.1s\tremaining: 10.1s\n",
      "600:\tlearn: 0.0056451\ttotal: 12.1s\tremaining: 8.04s\n",
      "700:\tlearn: 0.0045117\ttotal: 14.1s\tremaining: 6s\n",
      "800:\tlearn: 0.0036435\ttotal: 16s\tremaining: 3.98s\n",
      "900:\tlearn: 0.0032730\ttotal: 18s\tremaining: 1.98s\n",
      "999:\tlearn: 0.0030315\ttotal: 19.9s\tremaining: 0us\n"
     ]
    },
    {
     "data": {
      "text/plain": [
       "<catboost.core.CatBoostClassifier at 0x1d7233ce580>"
      ]
     },
     "execution_count": 31,
     "metadata": {},
     "output_type": "execute_result"
    }
   ],
   "source": [
    "\n",
    "model = CatBoostClassifier(\n",
    "    iterations=1000,\n",
    "    learning_rate=0.1,\n",
    "    depth=6,\n",
    "    loss_function='Logloss',  # 이진 분류 문제 (허위매물 여부 예측)\n",
    "    cat_features=cat_features,  # 범주형 변수 설정\n",
    "    verbose=100\n",
    ")\n",
    "\n",
    "model.fit(X_train, y_train)"
   ]
  },
  {
   "cell_type": "code",
   "execution_count": 32,
   "metadata": {},
   "outputs": [
    {
     "name": "stdout",
     "output_type": "stream",
     "text": [
      "✅ 제출 파일 (submission.csv) 생성 완료!\n"
     ]
    }
   ],
   "source": [
    "predictions = model.predict(X_test)\n",
    "\n",
    "# 6️⃣ 제출 파일 생성\n",
    "submission = pd.read_csv('./sample_submission.csv')\n",
    "submission['허위매물여부'] = predictions  # 결과 컬럼 반영\n",
    "submission.to_csv('submission.csv', index=False)\n",
    "\n",
    "print(\"✅ 제출 파일 (submission.csv) 생성 완료!\")\n",
    "\n"
   ]
  }
 ],
 "metadata": {
  "kernelspec": {
   "display_name": "venv",
   "language": "python",
   "name": "python3"
  },
  "language_info": {
   "codemirror_mode": {
    "name": "ipython",
    "version": 3
   },
   "file_extension": ".py",
   "mimetype": "text/x-python",
   "name": "python",
   "nbconvert_exporter": "python",
   "pygments_lexer": "ipython3",
   "version": "3.9.13"
  }
 },
 "nbformat": 4,
 "nbformat_minor": 2
}
